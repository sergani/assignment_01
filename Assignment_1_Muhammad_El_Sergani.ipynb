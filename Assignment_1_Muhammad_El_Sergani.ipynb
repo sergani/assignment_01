{
  "cells": [
    {
      "cell_type": "markdown",
      "metadata": {
        "id": "GRXc5RGY-y0C"
      },
      "source": [
        "# Assignment 1"
      ]
    },
    {
      "cell_type": "markdown",
      "metadata": {
        "collapsed": true,
        "id": "jJvo-87f-y0E"
      },
      "source": [
        "## Test your knowledge. \n",
        "\n",
        "** Answer the following questions **"
      ]
    },
    {
      "cell_type": "markdown",
      "metadata": {
        "id": "DAngbzPX-y0E"
      },
      "source": [
        "## Strings"
      ]
    },
    {
      "cell_type": "markdown",
      "metadata": {
        "id": "mdu4cal3-y0F"
      },
      "source": [
        "Given the string 'hello' give an index command that returns 'e'. Enter your code in the cell below:"
      ]
    },
    {
      "cell_type": "code",
      "execution_count": null,
      "metadata": {
        "colab": {
          "base_uri": "https://localhost:8080/"
        },
        "id": "iqlomJiJ-y0F",
        "outputId": "c643f630-38fb-4cbe-eee9-7615d3900d38"
      },
      "outputs": [
        {
          "output_type": "stream",
          "name": "stdout",
          "text": [
            "e\n"
          ]
        }
      ],
      "source": [
        "s = 'hello'\n",
        "# Print out 'e' using indexing\n",
        "print(s[1])"
      ]
    },
    {
      "cell_type": "markdown",
      "metadata": {
        "id": "8vEEJ465-y0G"
      },
      "source": [
        "Reverse the string 'hello' using slicing:"
      ]
    },
    {
      "cell_type": "code",
      "execution_count": null,
      "metadata": {
        "colab": {
          "base_uri": "https://localhost:8080/"
        },
        "id": "5kKsuyUB-y0H",
        "outputId": "c848be35-7e41-4f38-c3c1-e85d4132a50a"
      },
      "outputs": [
        {
          "output_type": "stream",
          "name": "stdout",
          "text": [
            "olleh\n"
          ]
        }
      ],
      "source": [
        "s ='hello'\n",
        "# Reverse the string using slicing\n",
        "print(s[len(s)::-1])"
      ]
    },
    {
      "cell_type": "markdown",
      "metadata": {
        "id": "CVmCbYeh-y0H"
      },
      "source": [
        "Given the string hello, give two methods of producing the letter 'o' using indexing."
      ]
    },
    {
      "cell_type": "code",
      "execution_count": null,
      "metadata": {
        "colab": {
          "base_uri": "https://localhost:8080/"
        },
        "id": "yY5VoULB-y0H",
        "outputId": "bc9eb833-7dc4-42eb-e12c-50dddc27b156"
      },
      "outputs": [
        {
          "output_type": "stream",
          "name": "stdout",
          "text": [
            "o\n"
          ]
        }
      ],
      "source": [
        "s ='hello'\n",
        "# Print out the 'o'\n",
        "\n",
        "# Method 1:\n",
        "print(s[-1])\n"
      ]
    },
    {
      "cell_type": "code",
      "execution_count": null,
      "metadata": {
        "colab": {
          "base_uri": "https://localhost:8080/"
        },
        "id": "U2bdSQzv-y0I",
        "outputId": "b946eb39-10d6-467d-9969-fce1aa917d23"
      },
      "outputs": [
        {
          "output_type": "stream",
          "name": "stdout",
          "text": [
            "o\n"
          ]
        }
      ],
      "source": [
        "# Method 2:\n",
        "print(s[len(s)-1])"
      ]
    },
    {
      "cell_type": "markdown",
      "metadata": {
        "id": "81tjjeSe-y0I"
      },
      "source": [
        "## Lists"
      ]
    },
    {
      "cell_type": "markdown",
      "metadata": {
        "id": "3HnG7aiD-y0J"
      },
      "source": [
        "Build this list [0,0,0] two separate ways."
      ]
    },
    {
      "cell_type": "code",
      "execution_count": 16,
      "metadata": {
        "id": "KHsSbF5J-y0J",
        "colab": {
          "base_uri": "https://localhost:8080/"
        },
        "outputId": "d4619ca3-81fd-43e4-fd75-ca758ca35f4b"
      },
      "outputs": [
        {
          "output_type": "stream",
          "name": "stdout",
          "text": [
            "[0, 0, 0]\n"
          ]
        }
      ],
      "source": [
        "# Method 1:\n",
        "list1 = [0, 0, 0]\n",
        "print(list1)\n"
      ]
    },
    {
      "cell_type": "code",
      "execution_count": 17,
      "metadata": {
        "id": "PV0OKVKD-y0J",
        "colab": {
          "base_uri": "https://localhost:8080/"
        },
        "outputId": "66821b86-3cb8-4d58-f6fb-3b6792f460f2"
      },
      "outputs": [
        {
          "output_type": "stream",
          "name": "stdout",
          "text": [
            "[0, 0, 0]\n"
          ]
        }
      ],
      "source": [
        "# Method 2:\n",
        "list2 = []\n",
        "list2.append(0)\n",
        "list2.append(0)\n",
        "list2.append(0)\n",
        "\n",
        "print(list2)"
      ]
    },
    {
      "cell_type": "markdown",
      "metadata": {
        "id": "q8o6WQFO-y0K"
      },
      "source": [
        "Reassign 'hello' in this nested list to say 'goodbye' instead:"
      ]
    },
    {
      "cell_type": "code",
      "execution_count": 18,
      "metadata": {
        "id": "P4BIQ3L9-y0K",
        "colab": {
          "base_uri": "https://localhost:8080/"
        },
        "outputId": "baa4abf9-b79f-4e6a-d3fe-d2cd67a8704b"
      },
      "outputs": [
        {
          "output_type": "stream",
          "name": "stdout",
          "text": [
            "[1, 2, [3, 4, 'goodbye']]\n"
          ]
        }
      ],
      "source": [
        "list3 = [1,2,[3,4,'hello']]\n",
        "list3[2][2] = \"goodbye\"\n",
        "print(list3)\n"
      ]
    },
    {
      "cell_type": "markdown",
      "metadata": {
        "id": "qVVoV4wk-y0L"
      },
      "source": [
        "Sort the list below:"
      ]
    },
    {
      "cell_type": "code",
      "execution_count": 15,
      "metadata": {
        "id": "JC6TeW_x-y0M",
        "colab": {
          "base_uri": "https://localhost:8080/"
        },
        "outputId": "4bc85e6d-de27-469d-f762-7d27f0cd783e"
      },
      "outputs": [
        {
          "output_type": "stream",
          "name": "stdout",
          "text": [
            "[1, 3, 4, 5, 6]\n"
          ]
        }
      ],
      "source": [
        "list4 = [5,3,4,6,1]\n",
        "list4.sort()\n",
        "print(list4)\n"
      ]
    },
    {
      "cell_type": "markdown",
      "metadata": {
        "id": "OwxcpSdX-y0M"
      },
      "source": [
        "## Dictionaries"
      ]
    },
    {
      "cell_type": "markdown",
      "metadata": {
        "id": "6WLVMHnt-y0N"
      },
      "source": [
        "Using keys and indexing, grab the 'hello' from the following dictionaries:"
      ]
    },
    {
      "cell_type": "code",
      "execution_count": 19,
      "metadata": {
        "id": "VnjhMGFU-y0O",
        "colab": {
          "base_uri": "https://localhost:8080/"
        },
        "outputId": "50c4998d-aa42-41ed-e373-088cf7d7c2a7"
      },
      "outputs": [
        {
          "output_type": "stream",
          "name": "stdout",
          "text": [
            "hello\n"
          ]
        }
      ],
      "source": [
        "d = {'simple_key':'hello'}\n",
        "# Grab 'hello'\n",
        "print(d['simple_key'])\n"
      ]
    },
    {
      "cell_type": "code",
      "execution_count": 20,
      "metadata": {
        "id": "8YHivE81-y0O",
        "colab": {
          "base_uri": "https://localhost:8080/"
        },
        "outputId": "ab563060-1928-4cd9-c38d-d45310816837"
      },
      "outputs": [
        {
          "output_type": "stream",
          "name": "stdout",
          "text": [
            "hello\n"
          ]
        }
      ],
      "source": [
        "d = {'k1':{'k2':'hello'}}\n",
        "# Grab 'hello'\n",
        "print(d['k1']['k2'])\n"
      ]
    },
    {
      "cell_type": "code",
      "execution_count": 24,
      "metadata": {
        "id": "Kw1iZxsj-y0P",
        "colab": {
          "base_uri": "https://localhost:8080/"
        },
        "outputId": "f0c4a015-4bcf-42ab-98d2-5ed8b3e20c3c"
      },
      "outputs": [
        {
          "output_type": "stream",
          "name": "stdout",
          "text": [
            "hello\n"
          ]
        }
      ],
      "source": [
        "d = {'k1':[{'nest_key':['this is deep',['hello']]}]}\n",
        "\n",
        "#Grab hello\n",
        "print(d['k1'][0]['nest_key'][1][0])\n",
        "\n"
      ]
    },
    {
      "cell_type": "code",
      "execution_count": 29,
      "metadata": {
        "id": "1Ckan1T--y0P",
        "colab": {
          "base_uri": "https://localhost:8080/"
        },
        "outputId": "01568cf8-65ef-4f3b-b6de-05175b785c4b"
      },
      "outputs": [
        {
          "output_type": "stream",
          "name": "stdout",
          "text": [
            "hello\n"
          ]
        }
      ],
      "source": [
        "d = {'k1':[1,2,{'k2':['this is tricky',{'tough':[1,2,['hello']]}]}]}\n",
        "#Grab hello\n",
        "print(d['k1'][2]['k2'][1]['tough'][2][0])\n"
      ]
    },
    {
      "cell_type": "code",
      "execution_count": 29,
      "metadata": {
        "id": "ojeJAP1J-y0Q"
      },
      "outputs": [],
      "source": [
        ""
      ]
    },
    {
      "cell_type": "code",
      "execution_count": 29,
      "metadata": {
        "id": "ahFskTzy-y0Q"
      },
      "outputs": [],
      "source": [
        ""
      ]
    },
    {
      "cell_type": "code",
      "execution_count": 29,
      "metadata": {
        "id": "7cvWGxI2-y0R"
      },
      "outputs": [],
      "source": [
        ""
      ]
    },
    {
      "cell_type": "code",
      "execution_count": 29,
      "metadata": {
        "id": "cpNNwi3v-y0R"
      },
      "outputs": [],
      "source": [
        ""
      ]
    },
    {
      "cell_type": "markdown",
      "metadata": {
        "id": "2uIhvbxw-y0R"
      },
      "source": [
        "** Given the variables:**\n",
        "\n",
        "    planet = \"Earth\"\n",
        "    diameter = 12742\n",
        "\n",
        "** Use .format() to print the following string: **\n",
        "\n",
        "    The diameter of Earth is 12742 kilometers."
      ]
    },
    {
      "cell_type": "code",
      "execution_count": 32,
      "metadata": {
        "id": "A9VE6Dwi-y0R",
        "outputId": "fba56c27-7d5c-418c-b117-b895bc2ff5f3",
        "colab": {
          "base_uri": "https://localhost:8080/"
        }
      },
      "outputs": [
        {
          "output_type": "stream",
          "name": "stdout",
          "text": [
            "The diameter of Earth is 12742 kilometers.\n"
          ]
        }
      ],
      "source": [
        "planet = \"Earth\"\n",
        "diameter = 12742\n",
        "print('The diameter of {} is {} kilometers.'.format(planet, diameter))"
      ]
    },
    {
      "cell_type": "markdown",
      "metadata": {
        "id": "u8BG_KZY-y0S"
      },
      "source": [
        "** Given this nested list, use indexing to grab the word \"hello\" **"
      ]
    },
    {
      "cell_type": "code",
      "execution_count": 36,
      "metadata": {
        "id": "PmsfVdq4-y0S",
        "colab": {
          "base_uri": "https://localhost:8080/"
        },
        "outputId": "c954c986-cbc1-4394-c0b1-c3e5edb577bc"
      },
      "outputs": [
        {
          "output_type": "stream",
          "name": "stdout",
          "text": [
            "hello\n"
          ]
        }
      ],
      "source": [
        "lst = [1,2,[3,4],[5,[100,200,['hello']],23,11],1,7]\n",
        "print(lst[3][1][2][0])"
      ]
    },
    {
      "cell_type": "markdown",
      "metadata": {
        "id": "_jTTfpLB-y0T"
      },
      "source": [
        "** Given this nested dictionary grab the word \"hello\". **"
      ]
    },
    {
      "cell_type": "code",
      "execution_count": 40,
      "metadata": {
        "collapsed": true,
        "id": "POIFa9Sk-y0T",
        "colab": {
          "base_uri": "https://localhost:8080/"
        },
        "outputId": "1f0343bd-e35d-4e63-9c19-f37f1c6a0feb"
      },
      "outputs": [
        {
          "output_type": "stream",
          "name": "stdout",
          "text": [
            "hello\n"
          ]
        }
      ],
      "source": [
        "d = {'k1':[1,2,3,{'tricky':['oh','man','inception',{'target':[1,2,3,'hello']}]}]}\n",
        "print(d['k1'][3]['tricky'][3]['target'][3])"
      ]
    },
    {
      "cell_type": "markdown",
      "metadata": {
        "id": "jqRHvLHc-y0T"
      },
      "source": [
        "### Write a Python program to swap two variables.\n"
      ]
    },
    {
      "cell_type": "code",
      "execution_count": 41,
      "metadata": {
        "id": "stX6eiPl-y0U",
        "colab": {
          "base_uri": "https://localhost:8080/"
        },
        "outputId": "21669f43-12b1-45fe-a9d4-8e31282172f8"
      },
      "outputs": [
        {
          "output_type": "stream",
          "name": "stdout",
          "text": [
            "200 100\n"
          ]
        }
      ],
      "source": [
        "a = 100\n",
        "b = 200\n",
        "\n",
        "temp_var = a\n",
        "a = b\n",
        "b = temp_var\n",
        "\n",
        "print(a, b)"
      ]
    },
    {
      "cell_type": "markdown",
      "metadata": {
        "id": "EjkVSST5-y0U"
      },
      "source": [
        "## Thanks"
      ]
    }
  ],
  "metadata": {
    "anaconda-cloud": {},
    "kernelspec": {
      "display_name": "Python 3",
      "language": "python",
      "name": "python3"
    },
    "language_info": {
      "codemirror_mode": {
        "name": "ipython",
        "version": 3
      },
      "file_extension": ".py",
      "mimetype": "text/x-python",
      "name": "python",
      "nbconvert_exporter": "python",
      "pygments_lexer": "ipython3",
      "version": "3.8.5"
    },
    "colab": {
      "name": "Assignment 1 (Muhammad El-Sergani).ipynb",
      "provenance": [],
      "collapsed_sections": [
        "DAngbzPX-y0E"
      ]
    }
  },
  "nbformat": 4,
  "nbformat_minor": 0
}